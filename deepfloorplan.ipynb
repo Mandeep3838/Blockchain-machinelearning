{
  "cells": [
    {
      "cell_type": "markdown",
      "metadata": {
        "id": "FlHRttnDPZ3y"
      },
      "source": [
        "### Installation\n",
        "1. Run the first 2 cells\n",
        "2. Restart runtime\n",
        "3. Run the rest of the jupyter notebooks (do not run the first 2 cells again)"
      ]
    },
    {
      "cell_type": "code",
      "execution_count": 1,
      "metadata": {
        "colab": {
          "base_uri": "https://localhost:8080/"
        },
        "id": "YPHHCUKZn89j",
        "outputId": "b07aeed3-1803-41a8-ddb4-e7fe4c388961"
      },
      "outputs": [
        {
          "output_type": "stream",
          "name": "stdout",
          "text": [
            "Cloning into 'TF2DeepFloorplan'...\n",
            "remote: Enumerating objects: 1051, done.\u001b[K\n",
            "remote: Counting objects: 100% (479/479), done.\u001b[K\n",
            "remote: Compressing objects: 100% (213/213), done.\u001b[K\n",
            "remote: Total 1051 (delta 286), reused 362 (delta 235), pack-reused 572 (from 1)\u001b[K\n",
            "Receiving objects: 100% (1051/1051), 8.14 MiB | 23.88 MiB/s, done.\n",
            "Resolving deltas: 100% (587/587), done.\n",
            "Requirement already satisfied: gdown in /usr/local/lib/python3.11/dist-packages (5.2.0)\n",
            "Requirement already satisfied: beautifulsoup4 in /usr/local/lib/python3.11/dist-packages (from gdown) (4.13.3)\n",
            "Requirement already satisfied: filelock in /usr/local/lib/python3.11/dist-packages (from gdown) (3.17.0)\n",
            "Requirement already satisfied: requests[socks] in /usr/local/lib/python3.11/dist-packages (from gdown) (2.32.3)\n",
            "Requirement already satisfied: tqdm in /usr/local/lib/python3.11/dist-packages (from gdown) (4.67.1)\n",
            "Requirement already satisfied: soupsieve>1.2 in /usr/local/lib/python3.11/dist-packages (from beautifulsoup4->gdown) (2.6)\n",
            "Requirement already satisfied: typing-extensions>=4.0.0 in /usr/local/lib/python3.11/dist-packages (from beautifulsoup4->gdown) (4.12.2)\n",
            "Requirement already satisfied: charset-normalizer<4,>=2 in /usr/local/lib/python3.11/dist-packages (from requests[socks]->gdown) (3.4.1)\n",
            "Requirement already satisfied: idna<4,>=2.5 in /usr/local/lib/python3.11/dist-packages (from requests[socks]->gdown) (3.10)\n",
            "Requirement already satisfied: urllib3<3,>=1.21.1 in /usr/local/lib/python3.11/dist-packages (from requests[socks]->gdown) (2.3.0)\n",
            "Requirement already satisfied: certifi>=2017.4.17 in /usr/local/lib/python3.11/dist-packages (from requests[socks]->gdown) (2025.1.31)\n",
            "Requirement already satisfied: PySocks!=1.5.7,>=1.5.6 in /usr/local/lib/python3.11/dist-packages (from requests[socks]->gdown) (1.7.1)\n",
            "Requirement already satisfied: gdown in /usr/local/lib/python3.11/dist-packages (5.2.0)\n",
            "Requirement already satisfied: beautifulsoup4 in /usr/local/lib/python3.11/dist-packages (from gdown) (4.13.3)\n",
            "Requirement already satisfied: filelock in /usr/local/lib/python3.11/dist-packages (from gdown) (3.17.0)\n",
            "Requirement already satisfied: requests[socks] in /usr/local/lib/python3.11/dist-packages (from gdown) (2.32.3)\n",
            "Requirement already satisfied: tqdm in /usr/local/lib/python3.11/dist-packages (from gdown) (4.67.1)\n",
            "Requirement already satisfied: soupsieve>1.2 in /usr/local/lib/python3.11/dist-packages (from beautifulsoup4->gdown) (2.6)\n",
            "Requirement already satisfied: typing-extensions>=4.0.0 in /usr/local/lib/python3.11/dist-packages (from beautifulsoup4->gdown) (4.12.2)\n",
            "Requirement already satisfied: charset-normalizer<4,>=2 in /usr/local/lib/python3.11/dist-packages (from requests[socks]->gdown) (3.4.1)\n",
            "Requirement already satisfied: idna<4,>=2.5 in /usr/local/lib/python3.11/dist-packages (from requests[socks]->gdown) (3.10)\n",
            "Requirement already satisfied: urllib3<3,>=1.21.1 in /usr/local/lib/python3.11/dist-packages (from requests[socks]->gdown) (2.3.0)\n",
            "Requirement already satisfied: certifi>=2017.4.17 in /usr/local/lib/python3.11/dist-packages (from requests[socks]->gdown) (2025.1.31)\n",
            "Requirement already satisfied: PySocks!=1.5.7,>=1.5.6 in /usr/local/lib/python3.11/dist-packages (from requests[socks]->gdown) (1.7.1)\n",
            "Downloading...\n",
            "From (original): https://drive.google.com/uc?id=1czUSFvk6Z49H-zRikTc67g2HUUz4imON\n",
            "From (redirected): https://drive.google.com/uc?id=1czUSFvk6Z49H-zRikTc67g2HUUz4imON&confirm=t&uuid=49f7eb93-26ce-4101-b9e7-c19a96da900f\n",
            "To: /content/log.zip\n",
            "100% 113M/113M [00:01<00:00, 111MB/s]  \n",
            "Archive:  log.zip\n",
            "   creating: log/\n",
            "   creating: log/store/\n",
            "  inflating: log/store/checkpoint    \n",
            "  inflating: log/store/events.out.tfevents.1604013900.yui-Inspiron-7590.21326.5.v2  \n",
            "  inflating: log/store/events.out.tfevents.1604014000.yui-Inspiron-7590.21649.5.v2  \n",
            "  inflating: log/store/events.out.tfevents.1604014116.yui-Inspiron-7590.22149.5.v2  \n",
            "  inflating: log/store/G.data-00000-of-00001  \n",
            "  inflating: log/store/G.index       \n"
          ]
        }
      ],
      "source": [
        "!git clone -b main https://github.com/zcemycl/TF2DeepFloorplan.git\n",
        "!pip install gdown\n",
        "!pip install --upgrade --no-cache-dir gdown\n",
        "!gdown https://drive.google.com/uc?id=1czUSFvk6Z49H-zRikTc67g2HUUz4imON\n",
        "!unzip log.zip\n",
        "!rm log.zip"
      ]
    },
    {
      "cell_type": "code",
      "execution_count": 2,
      "metadata": {
        "id": "SYrOAW5qPZ30",
        "outputId": "22aeaa89-23b6-4b9c-94fc-6dfedd292f30",
        "colab": {
          "base_uri": "https://localhost:8080/"
        }
      },
      "outputs": [
        {
          "output_type": "stream",
          "name": "stdout",
          "text": [
            "Obtaining file:///content/TF2DeepFloorplan\n",
            "  Installing build dependencies ... \u001b[?25l\u001b[?25hdone\n",
            "  Checking if build backend supports build_editable ... \u001b[?25l\u001b[?25hdone\n",
            "  Getting requirements to build editable ... \u001b[?25l\u001b[?25hdone\n",
            "  Installing backend dependencies ... \u001b[?25l\u001b[?25hdone\n",
            "  Preparing editable metadata (pyproject.toml) ... \u001b[?25l\u001b[?25hdone\n",
            "Requirement already satisfied: matplotlib in /usr/local/lib/python3.11/dist-packages (from dfp==0.0.6.dev1+gb5860f2) (3.10.0)\n",
            "Requirement already satisfied: numpy in /usr/local/lib/python3.11/dist-packages (from dfp==0.0.6.dev1+gb5860f2) (1.26.4)\n",
            "Requirement already satisfied: opencv-python in /usr/local/lib/python3.11/dist-packages (from dfp==0.0.6.dev1+gb5860f2) (4.11.0.86)\n",
            "Collecting pdbpp (from dfp==0.0.6.dev1+gb5860f2)\n",
            "  Downloading pdbpp-0.10.3-py2.py3-none-any.whl.metadata (23 kB)\n",
            "Requirement already satisfied: scipy in /usr/local/lib/python3.11/dist-packages (from dfp==0.0.6.dev1+gb5860f2) (1.13.1)\n",
            "Requirement already satisfied: Pillow in /usr/local/lib/python3.11/dist-packages (from dfp==0.0.6.dev1+gb5860f2) (11.1.0)\n",
            "Requirement already satisfied: gdown in /usr/local/lib/python3.11/dist-packages (from dfp==0.0.6.dev1+gb5860f2) (5.2.0)\n",
            "Collecting protobuf==3.20.0 (from dfp==0.0.6.dev1+gb5860f2)\n",
            "  Downloading protobuf-3.20.0-py2.py3-none-any.whl.metadata (720 bytes)\n",
            "Requirement already satisfied: chardet in /usr/local/lib/python3.11/dist-packages (from dfp==0.0.6.dev1+gb5860f2) (5.2.0)\n",
            "Collecting types-requests (from dfp==0.0.6.dev1+gb5860f2)\n",
            "  Downloading types_requests-2.32.0.20241016-py3-none-any.whl.metadata (1.9 kB)\n",
            "Collecting pytype (from dfp==0.0.6.dev1+gb5860f2)\n",
            "  Downloading pytype-2024.10.11-cp311-cp311-manylinux_2_27_x86_64.manylinux_2_28_x86_64.whl.metadata (10 kB)\n",
            "Collecting dynaconf (from dfp==0.0.6.dev1+gb5860f2)\n",
            "  Downloading dynaconf-3.2.9-py2.py3-none-any.whl.metadata (9.1 kB)\n",
            "Collecting tensorflow-cpu (from dfp==0.0.6.dev1+gb5860f2)\n",
            "  Downloading tensorflow_cpu-2.18.0-cp311-cp311-manylinux_2_17_x86_64.manylinux2014_x86_64.whl.metadata (4.1 kB)\n",
            "Requirement already satisfied: tensorboard in /usr/local/lib/python3.11/dist-packages (from dfp==0.0.6.dev1+gb5860f2) (2.18.0)\n",
            "Collecting tensorflow-model-optimization (from dfp==0.0.6.dev1+gb5860f2)\n",
            "  Downloading tensorflow_model_optimization-0.8.0-py2.py3-none-any.whl.metadata (904 bytes)\n",
            "Requirement already satisfied: beautifulsoup4 in /usr/local/lib/python3.11/dist-packages (from gdown->dfp==0.0.6.dev1+gb5860f2) (4.13.3)\n",
            "Requirement already satisfied: filelock in /usr/local/lib/python3.11/dist-packages (from gdown->dfp==0.0.6.dev1+gb5860f2) (3.17.0)\n",
            "Requirement already satisfied: requests[socks] in /usr/local/lib/python3.11/dist-packages (from gdown->dfp==0.0.6.dev1+gb5860f2) (2.32.3)\n",
            "Requirement already satisfied: tqdm in /usr/local/lib/python3.11/dist-packages (from gdown->dfp==0.0.6.dev1+gb5860f2) (4.67.1)\n",
            "Requirement already satisfied: contourpy>=1.0.1 in /usr/local/lib/python3.11/dist-packages (from matplotlib->dfp==0.0.6.dev1+gb5860f2) (1.3.1)\n",
            "Requirement already satisfied: cycler>=0.10 in /usr/local/lib/python3.11/dist-packages (from matplotlib->dfp==0.0.6.dev1+gb5860f2) (0.12.1)\n",
            "Requirement already satisfied: fonttools>=4.22.0 in /usr/local/lib/python3.11/dist-packages (from matplotlib->dfp==0.0.6.dev1+gb5860f2) (4.56.0)\n",
            "Requirement already satisfied: kiwisolver>=1.3.1 in /usr/local/lib/python3.11/dist-packages (from matplotlib->dfp==0.0.6.dev1+gb5860f2) (1.4.8)\n",
            "Requirement already satisfied: packaging>=20.0 in /usr/local/lib/python3.11/dist-packages (from matplotlib->dfp==0.0.6.dev1+gb5860f2) (24.2)\n",
            "Requirement already satisfied: pyparsing>=2.3.1 in /usr/local/lib/python3.11/dist-packages (from matplotlib->dfp==0.0.6.dev1+gb5860f2) (3.2.1)\n",
            "Requirement already satisfied: python-dateutil>=2.7 in /usr/local/lib/python3.11/dist-packages (from matplotlib->dfp==0.0.6.dev1+gb5860f2) (2.8.2)\n",
            "Collecting fancycompleter>=0.8 (from pdbpp->dfp==0.0.6.dev1+gb5860f2)\n",
            "  Downloading fancycompleter-0.9.1-py3-none-any.whl.metadata (9.0 kB)\n",
            "Collecting wmctrl (from pdbpp->dfp==0.0.6.dev1+gb5860f2)\n",
            "  Downloading wmctrl-0.5-py2.py3-none-any.whl.metadata (943 bytes)\n",
            "Requirement already satisfied: pygments in /usr/local/lib/python3.11/dist-packages (from pdbpp->dfp==0.0.6.dev1+gb5860f2) (2.18.0)\n",
            "Requirement already satisfied: attrs>=21.4.0 in /usr/local/lib/python3.11/dist-packages (from pytype->dfp==0.0.6.dev1+gb5860f2) (25.1.0)\n",
            "Collecting importlab>=0.8 (from pytype->dfp==0.0.6.dev1+gb5860f2)\n",
            "  Downloading importlab-0.8.1-py2.py3-none-any.whl.metadata (2.4 kB)\n",
            "Requirement already satisfied: immutabledict>=4.1.0 in /usr/local/lib/python3.11/dist-packages (from pytype->dfp==0.0.6.dev1+gb5860f2) (4.2.1)\n",
            "Requirement already satisfied: jinja2>=3.1.2 in /usr/local/lib/python3.11/dist-packages (from pytype->dfp==0.0.6.dev1+gb5860f2) (3.1.5)\n",
            "Collecting libcst>=1.0.1 (from pytype->dfp==0.0.6.dev1+gb5860f2)\n",
            "  Downloading libcst-1.6.0-cp311-cp311-manylinux_2_17_x86_64.manylinux2014_x86_64.whl.metadata (17 kB)\n",
            "Collecting msgspec>=0.18.6 (from pytype->dfp==0.0.6.dev1+gb5860f2)\n",
            "  Downloading msgspec-0.19.0-cp311-cp311-manylinux_2_17_x86_64.manylinux2014_x86_64.whl.metadata (6.9 kB)\n",
            "Requirement already satisfied: networkx>=2.8 in /usr/local/lib/python3.11/dist-packages (from pytype->dfp==0.0.6.dev1+gb5860f2) (3.4.2)\n",
            "Collecting ninja>=1.10.0.post2 (from pytype->dfp==0.0.6.dev1+gb5860f2)\n",
            "  Downloading ninja-1.11.1.3-py3-none-manylinux_2_12_x86_64.manylinux2010_x86_64.whl.metadata (5.3 kB)\n",
            "Collecting pycnite>=2024.07.31 (from pytype->dfp==0.0.6.dev1+gb5860f2)\n",
            "  Downloading pycnite-2024.7.31-py3-none-any.whl.metadata (1.3 kB)\n",
            "Requirement already satisfied: pydot>=1.4.2 in /usr/local/lib/python3.11/dist-packages (from pytype->dfp==0.0.6.dev1+gb5860f2) (3.0.4)\n",
            "Requirement already satisfied: tabulate>=0.8.10 in /usr/local/lib/python3.11/dist-packages (from pytype->dfp==0.0.6.dev1+gb5860f2) (0.9.0)\n",
            "Requirement already satisfied: toml>=0.10.2 in /usr/local/lib/python3.11/dist-packages (from pytype->dfp==0.0.6.dev1+gb5860f2) (0.10.2)\n",
            "Requirement already satisfied: typing-extensions>=4.3.0 in /usr/local/lib/python3.11/dist-packages (from pytype->dfp==0.0.6.dev1+gb5860f2) (4.12.2)\n",
            "Requirement already satisfied: absl-py>=0.4 in /usr/local/lib/python3.11/dist-packages (from tensorboard->dfp==0.0.6.dev1+gb5860f2) (1.4.0)\n",
            "Requirement already satisfied: grpcio>=1.48.2 in /usr/local/lib/python3.11/dist-packages (from tensorboard->dfp==0.0.6.dev1+gb5860f2) (1.70.0)\n",
            "Requirement already satisfied: markdown>=2.6.8 in /usr/local/lib/python3.11/dist-packages (from tensorboard->dfp==0.0.6.dev1+gb5860f2) (3.7)\n",
            "Requirement already satisfied: setuptools>=41.0.0 in /usr/local/lib/python3.11/dist-packages (from tensorboard->dfp==0.0.6.dev1+gb5860f2) (75.1.0)\n",
            "Requirement already satisfied: six>1.9 in /usr/local/lib/python3.11/dist-packages (from tensorboard->dfp==0.0.6.dev1+gb5860f2) (1.17.0)\n",
            "Requirement already satisfied: tensorboard-data-server<0.8.0,>=0.7.0 in /usr/local/lib/python3.11/dist-packages (from tensorboard->dfp==0.0.6.dev1+gb5860f2) (0.7.2)\n",
            "Requirement already satisfied: werkzeug>=1.0.1 in /usr/local/lib/python3.11/dist-packages (from tensorboard->dfp==0.0.6.dev1+gb5860f2) (3.1.3)\n",
            "Requirement already satisfied: astunparse>=1.6.0 in /usr/local/lib/python3.11/dist-packages (from tensorflow-cpu->dfp==0.0.6.dev1+gb5860f2) (1.6.3)\n",
            "Requirement already satisfied: flatbuffers>=24.3.25 in /usr/local/lib/python3.11/dist-packages (from tensorflow-cpu->dfp==0.0.6.dev1+gb5860f2) (25.2.10)\n",
            "Requirement already satisfied: gast!=0.5.0,!=0.5.1,!=0.5.2,>=0.2.1 in /usr/local/lib/python3.11/dist-packages (from tensorflow-cpu->dfp==0.0.6.dev1+gb5860f2) (0.6.0)\n",
            "Requirement already satisfied: google-pasta>=0.1.1 in /usr/local/lib/python3.11/dist-packages (from tensorflow-cpu->dfp==0.0.6.dev1+gb5860f2) (0.2.0)\n",
            "Requirement already satisfied: libclang>=13.0.0 in /usr/local/lib/python3.11/dist-packages (from tensorflow-cpu->dfp==0.0.6.dev1+gb5860f2) (18.1.1)\n",
            "Requirement already satisfied: opt-einsum>=2.3.2 in /usr/local/lib/python3.11/dist-packages (from tensorflow-cpu->dfp==0.0.6.dev1+gb5860f2) (3.4.0)\n",
            "INFO: pip is looking at multiple versions of tensorflow-cpu to determine which version is compatible with other requirements. This could take a while.\n",
            "Collecting tensorflow-cpu (from dfp==0.0.6.dev1+gb5860f2)\n",
            "  Downloading tensorflow_cpu-2.17.1-cp311-cp311-manylinux_2_17_x86_64.manylinux2014_x86_64.whl.metadata (4.2 kB)\n",
            "Requirement already satisfied: h5py>=3.10.0 in /usr/local/lib/python3.11/dist-packages (from tensorflow-cpu->dfp==0.0.6.dev1+gb5860f2) (3.12.1)\n",
            "Requirement already satisfied: ml-dtypes<0.5.0,>=0.3.1 in /usr/local/lib/python3.11/dist-packages (from tensorflow-cpu->dfp==0.0.6.dev1+gb5860f2) (0.4.1)\n",
            "  Downloading tensorflow_cpu-2.17.0-cp311-cp311-manylinux_2_17_x86_64.manylinux2014_x86_64.whl.metadata (4.2 kB)\n",
            "  Downloading tensorflow_cpu-2.16.2-cp311-cp311-manylinux_2_17_x86_64.manylinux2014_x86_64.whl.metadata (4.2 kB)\n",
            "Collecting ml-dtypes~=0.3.1 (from tensorflow-cpu->dfp==0.0.6.dev1+gb5860f2)\n",
            "  Downloading ml_dtypes-0.3.2-cp311-cp311-manylinux_2_17_x86_64.manylinux2014_x86_64.whl.metadata (20 kB)\n",
            "Collecting tensorflow-cpu (from dfp==0.0.6.dev1+gb5860f2)\n",
            "  Downloading tensorflow_cpu-2.16.1-cp311-cp311-manylinux_2_17_x86_64.manylinux2014_x86_64.whl.metadata (4.3 kB)\n",
            "  Downloading tensorflow_cpu-2.15.1-cp311-cp311-manylinux_2_17_x86_64.manylinux2014_x86_64.whl.metadata (4.2 kB)\n",
            "  Downloading tensorflow_cpu-2.15.0.post1-cp311-cp311-manylinux_2_17_x86_64.manylinux2014_x86_64.whl.metadata (4.2 kB)\n",
            "Collecting ml-dtypes~=0.2.0 (from tensorflow-cpu->dfp==0.0.6.dev1+gb5860f2)\n",
            "  Downloading ml_dtypes-0.2.0-cp311-cp311-manylinux_2_17_x86_64.manylinux2014_x86_64.whl.metadata (20 kB)\n",
            "Collecting tensorflow-cpu (from dfp==0.0.6.dev1+gb5860f2)\n",
            "  Downloading tensorflow_cpu-2.15.0-cp311-cp311-manylinux_2_17_x86_64.manylinux2014_x86_64.whl.metadata (4.4 kB)\n",
            "INFO: pip is still looking at multiple versions of tensorflow-cpu to determine which version is compatible with other requirements. This could take a while.\n",
            "  Downloading tensorflow_cpu-2.14.1-cp311-cp311-manylinux_2_17_x86_64.manylinux2014_x86_64.whl.metadata (4.1 kB)\n",
            "  Downloading tensorflow_cpu-2.14.0-cp311-cp311-manylinux_2_17_x86_64.manylinux2014_x86_64.whl.metadata (4.1 kB)\n",
            "  Downloading tensorflow_cpu-2.13.1-cp311-cp311-manylinux_2_17_x86_64.manylinux2014_x86_64.whl.metadata (3.4 kB)\n",
            "Collecting gast<=0.4.0,>=0.2.1 (from tensorflow-cpu->dfp==0.0.6.dev1+gb5860f2)\n",
            "  Downloading gast-0.4.0-py3-none-any.whl.metadata (1.1 kB)\n",
            "Collecting keras<2.14,>=2.13.1 (from tensorflow-cpu->dfp==0.0.6.dev1+gb5860f2)\n",
            "  Downloading keras-2.13.1-py3-none-any.whl.metadata (2.4 kB)\n",
            "Collecting numpy (from dfp==0.0.6.dev1+gb5860f2)\n",
            "  Downloading numpy-1.24.3-cp311-cp311-manylinux_2_17_x86_64.manylinux2014_x86_64.whl.metadata (5.6 kB)\n",
            "Collecting tensorflow-cpu (from dfp==0.0.6.dev1+gb5860f2)\n",
            "  Downloading tensorflow_cpu-2.13.0-cp311-cp311-manylinux_2_17_x86_64.manylinux2014_x86_64.whl.metadata (3.4 kB)\n",
            "  Downloading tensorflow_cpu-2.12.1-cp311-cp311-manylinux_2_17_x86_64.manylinux2014_x86_64.whl.metadata (3.4 kB)\n",
            "Requirement already satisfied: jax>=0.3.15 in /usr/local/lib/python3.11/dist-packages (from tensorflow-cpu->dfp==0.0.6.dev1+gb5860f2) (0.4.33)\n",
            "Collecting keras<2.13,>=2.12.0 (from tensorflow-cpu->dfp==0.0.6.dev1+gb5860f2)\n",
            "  Downloading keras-2.12.0-py2.py3-none-any.whl.metadata (1.4 kB)\n",
            "INFO: This is taking longer than usual. You might need to provide the dependency resolver with stricter constraints to reduce runtime. See https://pip.pypa.io/warnings/backtracking for guidance. If you want to abort this run, press Ctrl + C.\n",
            "Collecting tensorflow-cpu (from dfp==0.0.6.dev1+gb5860f2)\n",
            "  Downloading tensorflow_cpu-2.12.0-cp311-cp311-manylinux_2_17_x86_64.manylinux2014_x86_64.whl.metadata (3.4 kB)\n",
            "Collecting numpy (from dfp==0.0.6.dev1+gb5860f2)\n",
            "  Downloading numpy-1.23.5-cp311-cp311-manylinux_2_17_x86_64.manylinux2014_x86_64.whl.metadata (2.3 kB)\n",
            "Collecting tensorboard (from dfp==0.0.6.dev1+gb5860f2)\n",
            "  Downloading tensorboard-2.19.0-py3-none-any.whl.metadata (1.8 kB)\n",
            "  Downloading tensorboard-2.18.0-py3-none-any.whl.metadata (1.6 kB)\n",
            "  Downloading tensorboard-2.17.1-py3-none-any.whl.metadata (1.6 kB)\n",
            "  Downloading tensorboard-2.17.0-py3-none-any.whl.metadata (1.6 kB)\n",
            "  Downloading tensorboard-2.16.2-py3-none-any.whl.metadata (1.6 kB)\n",
            "  Downloading tensorboard-2.16.1-py3-none-any.whl.metadata (1.6 kB)\n",
            "Requirement already satisfied: tf-keras>=2.15.0 in /usr/local/lib/python3.11/dist-packages (from tensorboard->dfp==0.0.6.dev1+gb5860f2) (2.18.0)\n",
            "  Downloading tensorboard-2.16.0-py3-none-any.whl.metadata (1.6 kB)\n",
            "Collecting tf-keras-nightly (from tensorboard->dfp==0.0.6.dev1+gb5860f2)\n",
            "  Downloading tf_keras_nightly-2.19.0.dev2025020910-py3-none-any.whl.metadata (1.9 kB)\n",
            "Collecting tensorboard (from dfp==0.0.6.dev1+gb5860f2)\n",
            "  Downloading tensorboard-2.15.2-py3-none-any.whl.metadata (1.7 kB)\n",
            "Requirement already satisfied: google-auth<3,>=1.6.3 in /usr/local/lib/python3.11/dist-packages (from tensorboard->dfp==0.0.6.dev1+gb5860f2) (2.27.0)\n",
            "Requirement already satisfied: google-auth-oauthlib<2,>=0.5 in /usr/local/lib/python3.11/dist-packages (from tensorboard->dfp==0.0.6.dev1+gb5860f2) (1.2.1)\n",
            "  Downloading tensorboard-2.15.1-py3-none-any.whl.metadata (1.7 kB)\n",
            "  Downloading tensorboard-2.15.0-py3-none-any.whl.metadata (1.7 kB)\n",
            "  Downloading tensorboard-2.14.1-py3-none-any.whl.metadata (1.7 kB)\n",
            "Collecting google-auth-oauthlib<1.1,>=0.5 (from tensorboard->dfp==0.0.6.dev1+gb5860f2)\n",
            "  Downloading google_auth_oauthlib-1.0.0-py2.py3-none-any.whl.metadata (2.7 kB)\n",
            "Collecting tensorboard (from dfp==0.0.6.dev1+gb5860f2)\n",
            "  Downloading tensorboard-2.14.0-py3-none-any.whl.metadata (1.8 kB)\n",
            "Requirement already satisfied: wheel>=0.26 in /usr/local/lib/python3.11/dist-packages (from tensorboard->dfp==0.0.6.dev1+gb5860f2) (0.45.1)\n",
            "  Downloading tensorboard-2.13.0-py3-none-any.whl.metadata (1.8 kB)\n",
            "  Downloading tensorboard-2.12.3-py3-none-any.whl.metadata (1.8 kB)\n",
            "  Downloading tensorboard-2.12.2-py3-none-any.whl.metadata (1.8 kB)\n",
            "Collecting tensorboard-plugin-wit>=1.6.0 (from tensorboard->dfp==0.0.6.dev1+gb5860f2)\n",
            "  Downloading tensorboard_plugin_wit-1.8.1-py3-none-any.whl.metadata (873 bytes)\n",
            "Collecting tensorboard (from dfp==0.0.6.dev1+gb5860f2)\n",
            "  Downloading tensorboard-2.12.1-py3-none-any.whl.metadata (1.8 kB)\n",
            "  Downloading tensorboard-2.12.0-py3-none-any.whl.metadata (1.8 kB)\n",
            "Collecting google-auth-oauthlib<0.5,>=0.4.1 (from tensorboard->dfp==0.0.6.dev1+gb5860f2)\n",
            "  Downloading google_auth_oauthlib-0.4.6-py2.py3-none-any.whl.metadata (2.7 kB)\n",
            "Collecting tensorboard (from dfp==0.0.6.dev1+gb5860f2)\n",
            "  Downloading tensorboard-2.11.2-py3-none-any.whl.metadata (1.9 kB)\n",
            "Collecting tensorboard-data-server<0.7.0,>=0.6.0 (from tensorboard->dfp==0.0.6.dev1+gb5860f2)\n",
            "  Downloading tensorboard_data_server-0.6.1-py3-none-manylinux2010_x86_64.whl.metadata (1.1 kB)\n",
            "Collecting tensorboard (from dfp==0.0.6.dev1+gb5860f2)\n",
            "  Downloading tensorboard-2.11.0-py3-none-any.whl.metadata (1.9 kB)\n",
            "  Downloading tensorboard-2.10.1-py3-none-any.whl.metadata (1.9 kB)\n",
            "INFO: pip is looking at multiple versions of tensorboard to determine which version is compatible with other requirements. This could take a while.\n",
            "  Downloading tensorboard-2.10.0-py3-none-any.whl.metadata (1.9 kB)\n",
            "  Downloading tensorboard-2.9.1-py3-none-any.whl.metadata (1.9 kB)\n",
            "  Downloading tensorboard-2.9.0-py3-none-any.whl.metadata (1.9 kB)\n",
            "  Downloading tensorboard-2.8.0-py3-none-any.whl.metadata (1.9 kB)\n",
            "INFO: pip is still looking at multiple versions of tensorboard to determine which version is compatible with other requirements. This could take a while.\n",
            "  Downloading tensorboard-2.7.0-py3-none-any.whl.metadata (1.9 kB)\n",
            "  Downloading tensorboard-2.6.0-py3-none-any.whl.metadata (1.9 kB)\n",
            "Collecting google-auth<2,>=1.6.3 (from tensorboard->dfp==0.0.6.dev1+gb5860f2)\n",
            "  Downloading google_auth-1.35.0-py2.py3-none-any.whl.metadata (3.5 kB)\n",
            "INFO: This is taking longer than usual. You might need to provide the dependency resolver with stricter constraints to reduce runtime. See https://pip.pypa.io/warnings/backtracking for guidance. If you want to abort this run, press Ctrl + C.\n",
            "Collecting tensorboard (from dfp==0.0.6.dev1+gb5860f2)\n",
            "  Downloading tensorboard-2.5.0-py3-none-any.whl.metadata (2.0 kB)\n",
            "  Downloading tensorboard-2.4.1-py3-none-any.whl.metadata (2.0 kB)\n",
            "  Downloading tensorboard-2.4.0-py3-none-any.whl.metadata (2.0 kB)\n",
            "  Downloading tensorboard-2.3.0-py3-none-any.whl.metadata (2.0 kB)\n",
            "  Downloading tensorboard-2.2.2-py3-none-any.whl.metadata (2.0 kB)\n",
            "  Downloading tensorboard-2.2.1-py3-none-any.whl.metadata (2.0 kB)\n",
            "  Downloading tensorboard-2.2.0-py3-none-any.whl.metadata (2.0 kB)\n",
            "  Downloading tensorboard-2.1.1-py3-none-any.whl.metadata (1.9 kB)\n",
            "  Downloading tensorboard-2.1.0-py3-none-any.whl.metadata (1.9 kB)\n",
            "  Downloading tensorboard-2.0.2-py3-none-any.whl.metadata (1.9 kB)\n",
            "  Downloading tensorboard-2.0.1-py3-none-any.whl.metadata (1.9 kB)\n",
            "  Downloading tensorboard-2.0.0-py3-none-any.whl.metadata (1.8 kB)\n",
            "  Downloading tensorboard-1.15.0-py3-none-any.whl.metadata (1.8 kB)\n",
            "  Downloading tensorboard-1.14.0-py3-none-any.whl.metadata (1.8 kB)\n",
            "  Downloading tensorboard-1.13.1-py3-none-any.whl.metadata (1.7 kB)\n",
            "  Downloading tensorboard-1.13.0-py3-none-any.whl.metadata (1.7 kB)\n",
            "  Downloading tensorboard-1.12.2-py3-none-any.whl.metadata (1.7 kB)\n",
            "  Downloading tensorboard-1.12.1-py3-none-any.whl.metadata (1.7 kB)\n",
            "  Downloading tensorboard-1.12.0-py3-none-any.whl.metadata (1.7 kB)\n",
            "  Downloading tensorboard-1.11.0-py3-none-any.whl.metadata (1.7 kB)\n",
            "  Downloading tensorboard-1.10.0-py3-none-any.whl.metadata (1.7 kB)\n",
            "  Downloading tensorboard-1.9.0-py3-none-any.whl.metadata (1.7 kB)\n",
            "  Downloading tensorboard-1.8.0-py3-none-any.whl.metadata (1.7 kB)\n",
            "Collecting html5lib==0.9999999 (from tensorboard->dfp==0.0.6.dev1+gb5860f2)\n",
            "  Downloading html5lib-0.9999999.tar.gz (889 kB)\n",
            "\u001b[2K     \u001b[90m━━━━━━━━━━━━━━━━━━━━━━━━━━━━━━━━━━━━━━━━\u001b[0m \u001b[32m889.3/889.3 kB\u001b[0m \u001b[31m19.1 MB/s\u001b[0m eta \u001b[36m0:00:00\u001b[0m\n",
            "\u001b[?25h  Preparing metadata (setup.py) ... \u001b[?25l\u001b[?25hdone\n",
            "Collecting bleach==1.5.0 (from tensorboard->dfp==0.0.6.dev1+gb5860f2)\n",
            "  Downloading bleach-1.5.0-py2.py3-none-any.whl.metadata (8.9 kB)\n",
            "Collecting tensorboard (from dfp==0.0.6.dev1+gb5860f2)\n",
            "  Downloading tensorboard-1.7.0-py3-none-any.whl.metadata (1.7 kB)\n",
            "  Downloading tensorboard-1.6.0-py3-none-any.whl.metadata (1.8 kB)\n",
            "\u001b[31mERROR: Cannot install None, dfp and dfp[tfcpu]==0.0.6.dev1+gb5860f2 because these package versions have conflicting dependencies.\u001b[0m\u001b[31m\n",
            "\u001b[0m\n",
            "The conflict is caused by:\n",
            "    dfp 0.0.6.dev1+gb5860f2 depends on protobuf==3.20.0\n",
            "    dfp[tfcpu] 0.0.6.dev1+gb5860f2 depends on protobuf==3.20.0\n",
            "    tensorboard 2.10.1 depends on protobuf<3.20 and >=3.9.2\n",
            "    dfp 0.0.6.dev1+gb5860f2 depends on protobuf==3.20.0\n",
            "    dfp[tfcpu] 0.0.6.dev1+gb5860f2 depends on protobuf==3.20.0\n",
            "    tensorboard 2.10.0 depends on protobuf<3.20 and >=3.9.2\n",
            "    dfp 0.0.6.dev1+gb5860f2 depends on protobuf==3.20.0\n",
            "    dfp[tfcpu] 0.0.6.dev1+gb5860f2 depends on protobuf==3.20.0\n",
            "    tensorboard 2.9.1 depends on protobuf<3.20 and >=3.9.2\n",
            "\n",
            "To fix this you could try to:\n",
            "1. loosen the range of package versions you've specified\n",
            "2. remove package versions to allow pip to attempt to solve the dependency conflict\n",
            "\n",
            "\u001b[31mERROR: ResolutionImpossible: for help visit https://pip.pypa.io/en/latest/topics/dependency-resolution/#dealing-with-dependency-conflicts\u001b[0m\u001b[31m\n",
            "\u001b[0m"
          ]
        }
      ],
      "source": [
        "# gpu\n",
        "# !cd TF2DeepFloorplan && pip install -e .[tfgpu]\n",
        "# cpu\n",
        "!cd TF2DeepFloorplan && pip install -e .[tfcpu]"
      ]
    },
    {
      "cell_type": "code",
      "source": [
        "!pip install protobuf matplotlib numpy pdbpp scipy Pillow chardet types-requests pytype dynaconf tfcpu\n"
      ],
      "metadata": {
        "id": "shx9NgAHSzzB",
        "outputId": "d8426672-142b-4479-a269-0c0511d2b629",
        "colab": {
          "base_uri": "https://localhost:8080/"
        }
      },
      "execution_count": 4,
      "outputs": [
        {
          "output_type": "stream",
          "name": "stdout",
          "text": [
            "Requirement already satisfied: protobuf in /usr/local/lib/python3.11/dist-packages (4.25.6)\n",
            "Requirement already satisfied: matplotlib in /usr/local/lib/python3.11/dist-packages (3.10.0)\n",
            "Requirement already satisfied: numpy in /usr/local/lib/python3.11/dist-packages (1.26.4)\n",
            "Collecting pdbpp\n",
            "  Using cached pdbpp-0.10.3-py2.py3-none-any.whl.metadata (23 kB)\n",
            "Requirement already satisfied: scipy in /usr/local/lib/python3.11/dist-packages (1.13.1)\n",
            "Requirement already satisfied: Pillow in /usr/local/lib/python3.11/dist-packages (11.1.0)\n",
            "Requirement already satisfied: chardet in /usr/local/lib/python3.11/dist-packages (5.2.0)\n",
            "Collecting types-requests\n",
            "  Using cached types_requests-2.32.0.20241016-py3-none-any.whl.metadata (1.9 kB)\n",
            "Collecting pytype\n",
            "  Using cached pytype-2024.10.11-cp311-cp311-manylinux_2_27_x86_64.manylinux_2_28_x86_64.whl.metadata (10 kB)\n",
            "Collecting dynaconf\n",
            "  Using cached dynaconf-3.2.9-py2.py3-none-any.whl.metadata (9.1 kB)\n",
            "\u001b[31mERROR: Ignored the following versions that require a different python version: 2020.10.8 Requires-Python <3.9,>=3.5; 2020.11.12 Requires-Python <3.9,>=3.6; 2020.11.23 Requires-Python <3.9,>=3.6; 2020.11.3 Requires-Python <3.9,>=3.6; 2020.12.16 Requires-Python <3.9,>=3.6; 2020.12.2 Requires-Python <3.9,>=3.6; 2020.12.23 Requires-Python <3.9,>=3.6; 2020.2.20 Requires-Python !=3.0.*,!=3.1.*,!=3.2.*,!=3.3.*,!=3.4.*,<3.8,>=2.7; 2020.3.19 Requires-Python !=3.0.*,!=3.1.*,!=3.2.*,!=3.3.*,!=3.4.*,<3.8,>=2.7; 2020.4.1 Requires-Python !=3.0.*,!=3.1.*,!=3.2.*,!=3.3.*,!=3.4.*,<3.8,>=2.7; 2020.4.22 Requires-Python <3.8,>=3.5; 2020.5.13 Requires-Python <3.8,>=3.5; 2020.5.7 Requires-Python <3.8,>=3.5; 2020.6.1 Requires-Python <3.9,>=3.5; 2020.6.26 Requires-Python <3.9,>=3.5; 2020.7.14 Requires-Python <3.9,>=3.5; 2020.7.20 Requires-Python <3.9,>=3.5; 2020.7.24 Requires-Python <3.9,>=3.5; 2020.7.30 Requires-Python <3.9,>=3.5; 2020.8.10 Requires-Python <3.9,>=3.5; 2020.8.17 Requires-Python <3.9,>=3.5; 2020.8.28 Requires-Python <3.9,>=3.5; 2020.9.14 Requires-Python <3.9,>=3.5; 2020.9.16 Requires-Python <3.9,>=3.5; 2020.9.24 Requires-Python <3.9,>=3.5; 2020.9.29 Requires-Python <3.9,>=3.5; 2021.1.14 Requires-Python <3.9,>=3.6; 2021.1.21 Requires-Python <3.9,>=3.6; 2021.1.28 Requires-Python <3.9,>=3.6; 2021.1.8 Requires-Python <3.9,>=3.6; 2021.10.11 Requires-Python <3.10,>=3.6; 2021.10.18 Requires-Python <3.10,>=3.6; 2021.10.25 Requires-Python <3.10,>=3.6; 2021.10.4 Requires-Python <3.10,>=3.6; 2021.11.12 Requires-Python <3.10,>=3.6; 2021.11.18 Requires-Python <3.10,>=3.6; 2021.11.2 Requires-Python <3.10,>=3.6; 2021.11.24 Requires-Python <3.10,>=3.6; 2021.11.29 Requires-Python <3.10,>=3.6; 2021.12.15 Requires-Python <3.10,>=3.6; 2021.12.8 Requires-Python <3.10,>=3.6; 2021.2.19 Requires-Python <3.9,>=3.6; 2021.2.23 Requires-Python <3.10,>=3.6; 2021.2.9 Requires-Python <3.9,>=3.6; 2021.3.10 Requires-Python <3.10,>=3.6; 2021.3.22 Requires-Python <3.10,>=3.6; 2021.3.3 Requires-Python <3.10,>=3.6; 2021.4.1 Requires-Python <3.10,>=3.6; 2021.4.15 Requires-Python <3.10,>=3.6; 2021.4.26 Requires-Python <3.10,>=3.6; 2021.4.9 Requires-Python <3.10,>=3.6; 2021.5.11 Requires-Python <3.10,>=3.6; 2021.5.14 Requires-Python <3.10,>=3.6; 2021.5.19 Requires-Python <3.10,>=3.6; 2021.5.25 Requires-Python <3.10,>=3.6; 2021.5.4 Requires-Python <3.10,>=3.6; 2021.5.6 Requires-Python <3.10,>=3.6; 2021.6.17 Requires-Python <3.10,>=3.6; 2021.7.19 Requires-Python <3.10,>=3.6; 2021.7.27 Requires-Python <3.10,>=3.6; 2021.8.11 Requires-Python <3.10,>=3.6; 2021.8.24 Requires-Python <3.10,>=3.6; 2021.8.3 Requires-Python <3.10,>=3.6; 2021.9.27 Requires-Python <3.10,>=3.6; 2021.9.9 Requires-Python <3.10,>=3.6; 2022.1.13 Requires-Python <3.10,>=3.7; 2022.1.31 Requires-Python <3.10,>=3.7; 2022.1.5 Requires-Python <3.10,>=3.6; 2022.1.7 Requires-Python <3.10,>=3.7; 2022.10.13 Requires-Python <3.11,>=3.7; 2022.10.26 Requires-Python <3.11,>=3.7; 2022.11.10 Requires-Python <3.11,>=3.7; 2022.11.18 Requires-Python <3.11,>=3.7; 2022.11.29 Requires-Python <3.11,>=3.7; 2022.12.15 Requires-Python <3.11,>=3.7; 2022.12.9 Requires-Python <3.11,>=3.7; 2022.2.17 Requires-Python <3.10,>=3.7; 2022.2.23 Requires-Python <3.10,>=3.7; 2022.2.8 Requires-Python <3.10,>=3.7; 2022.3.21 Requires-Python <3.10,>=3.7; 2022.3.29 Requires-Python <3.10,>=3.7; 2022.3.8 Requires-Python <3.10,>=3.7; 2022.4.15 Requires-Python <3.11,>=3.7; 2022.4.22 Requires-Python <3.11,>=3.7; 2022.4.26 Requires-Python <3.11,>=3.7; 2022.4.6 Requires-Python <3.10,>=3.7; 2022.5.10 Requires-Python <3.11,>=3.7; 2022.5.19 Requires-Python <3.11,>=3.7; 2022.5.5 Requires-Python <3.11,>=3.7; 2022.6.14 Requires-Python <3.11,>=3.7; 2022.6.23 Requires-Python <3.11,>=3.7; 2022.6.30 Requires-Python <3.11,>=3.7; 2022.6.6 Requires-Python <3.11,>=3.7; 2022.7.18 Requires-Python <3.11,>=3.7; 2022.7.26 Requires-Python <3.11,>=3.7; 2022.8.17 Requires-Python <3.11,>=3.7; 2022.8.23 Requires-Python <3.11,>=3.7; 2022.8.3 Requires-Python <3.11,>=3.7; 2022.8.30 Requires-Python <3.11,>=3.7; 2022.9.19 Requires-Python <3.11,>=3.7; 2022.9.27 Requires-Python <3.11,>=3.7; 2022.9.8 Requires-Python <3.11,>=3.7; 2023.1.10 Requires-Python <3.11,>=3.7; 2023.1.17 Requires-Python <3.11,>=3.7; 2023.1.31 Requires-Python <3.11,>=3.7; 2023.2.14 Requires-Python <3.11,>=3.7; 2023.2.17 Requires-Python <3.11,>=3.7; 2023.2.9 Requires-Python <3.11,>=3.7; 2023.3.13 Requires-Python <3.11,>=3.7; 2023.3.2 Requires-Python <3.11,>=3.7; 2023.3.31 Requires-Python <3.11,>=3.7; 2023.3.8 Requires-Python <3.11,>=3.7; 2023.4.11 Requires-Python <3.11,>=3.7; 2023.4.18 Requires-Python <3.11,>=3.7; 2023.4.27 Requires-Python <3.11,>=3.7; 2023.5.24 Requires-Python <3.11,>=3.7; 2023.5.8 Requires-Python <3.11,>=3.7; 2023.6.16 Requires-Python <3.11,>=3.7; 2023.6.2 Requires-Python <3.11,>=3.7; 2023.7.12 Requires-Python <3.11,>=3.8; 2023.7.21 Requires-Python <3.11,>=3.8; 2023.7.28 Requires-Python <3.11,>=3.8; 2023.8.14 Requires-Python <3.11,>=3.8; 2023.8.22 Requires-Python <3.11,>=3.8; 2023.8.31 Requires-Python <3.11,>=3.8; 2023.9.11 Requires-Python <3.11,>=3.8\u001b[0m\u001b[31m\n",
            "\u001b[0m\u001b[31mERROR: Could not find a version that satisfies the requirement tfcpu (from versions: none)\u001b[0m\u001b[31m\n",
            "\u001b[0m\u001b[31mERROR: No matching distribution found for tfcpu\u001b[0m\u001b[31m\n",
            "\u001b[0m"
          ]
        }
      ]
    },
    {
      "cell_type": "code",
      "source": [
        "# !cd TF2DeepFloorplan\n",
        "import os\n",
        "\n",
        "os.chdir('/content/TF2DeepFloorplan')"
      ],
      "metadata": {
        "id": "yYB5BLiOVNuu"
      },
      "execution_count": 19,
      "outputs": []
    },
    {
      "cell_type": "code",
      "source": [
        "os.getcwd()"
      ],
      "metadata": {
        "id": "Xz7SyGC3VmzO",
        "outputId": "d43c4ddc-1230-4f16-b1f2-b9ad10946ad7",
        "colab": {
          "base_uri": "https://localhost:8080/",
          "height": 35
        }
      },
      "execution_count": 20,
      "outputs": [
        {
          "output_type": "execute_result",
          "data": {
            "text/plain": [
              "'/content/TF2DeepFloorplan'"
            ],
            "application/vnd.google.colaboratory.intrinsic+json": {
              "type": "string"
            }
          },
          "metadata": {},
          "execution_count": 20
        }
      ]
    },
    {
      "cell_type": "code",
      "source": [
        "pip install -e ."
      ],
      "metadata": {
        "id": "HsUHDZKZWI4F",
        "outputId": "206f6b54-854c-470f-e264-28ee107daa4a",
        "colab": {
          "base_uri": "https://localhost:8080/",
          "height": 1000
        }
      },
      "execution_count": 22,
      "outputs": [
        {
          "output_type": "stream",
          "name": "stdout",
          "text": [
            "Obtaining file:///content/TF2DeepFloorplan\n",
            "  Installing build dependencies ... \u001b[?25l\u001b[?25hdone\n",
            "  Checking if build backend supports build_editable ... \u001b[?25l\u001b[?25hdone\n",
            "  Getting requirements to build editable ... \u001b[?25l\u001b[?25hdone\n",
            "  Installing backend dependencies ... \u001b[?25l\u001b[?25hdone\n",
            "  Preparing editable metadata (pyproject.toml) ... \u001b[?25l\u001b[?25hdone\n",
            "Requirement already satisfied: matplotlib in /usr/local/lib/python3.11/dist-packages (from dfp==0.0.6.dev1+gb5860f2) (3.10.0)\n",
            "Requirement already satisfied: numpy in /usr/local/lib/python3.11/dist-packages (from dfp==0.0.6.dev1+gb5860f2) (1.26.4)\n",
            "Requirement already satisfied: opencv-python in /usr/local/lib/python3.11/dist-packages (from dfp==0.0.6.dev1+gb5860f2) (4.11.0.86)\n",
            "Collecting pdbpp (from dfp==0.0.6.dev1+gb5860f2)\n",
            "  Using cached pdbpp-0.10.3-py2.py3-none-any.whl.metadata (23 kB)\n",
            "Requirement already satisfied: scipy in /usr/local/lib/python3.11/dist-packages (from dfp==0.0.6.dev1+gb5860f2) (1.13.1)\n",
            "Requirement already satisfied: Pillow in /usr/local/lib/python3.11/dist-packages (from dfp==0.0.6.dev1+gb5860f2) (11.1.0)\n",
            "Requirement already satisfied: gdown in /usr/local/lib/python3.11/dist-packages (from dfp==0.0.6.dev1+gb5860f2) (5.2.0)\n",
            "Collecting protobuf==3.20.0 (from dfp==0.0.6.dev1+gb5860f2)\n",
            "  Using cached protobuf-3.20.0-py2.py3-none-any.whl.metadata (720 bytes)\n",
            "Requirement already satisfied: chardet in /usr/local/lib/python3.11/dist-packages (from dfp==0.0.6.dev1+gb5860f2) (5.2.0)\n",
            "Collecting types-requests (from dfp==0.0.6.dev1+gb5860f2)\n",
            "  Using cached types_requests-2.32.0.20241016-py3-none-any.whl.metadata (1.9 kB)\n",
            "Collecting pytype (from dfp==0.0.6.dev1+gb5860f2)\n",
            "  Using cached pytype-2024.10.11-cp311-cp311-manylinux_2_27_x86_64.manylinux_2_28_x86_64.whl.metadata (10 kB)\n",
            "Collecting dynaconf (from dfp==0.0.6.dev1+gb5860f2)\n",
            "  Using cached dynaconf-3.2.9-py2.py3-none-any.whl.metadata (9.1 kB)\n",
            "Requirement already satisfied: beautifulsoup4 in /usr/local/lib/python3.11/dist-packages (from gdown->dfp==0.0.6.dev1+gb5860f2) (4.13.3)\n",
            "Requirement already satisfied: filelock in /usr/local/lib/python3.11/dist-packages (from gdown->dfp==0.0.6.dev1+gb5860f2) (3.17.0)\n",
            "Requirement already satisfied: requests[socks] in /usr/local/lib/python3.11/dist-packages (from gdown->dfp==0.0.6.dev1+gb5860f2) (2.32.3)\n",
            "Requirement already satisfied: tqdm in /usr/local/lib/python3.11/dist-packages (from gdown->dfp==0.0.6.dev1+gb5860f2) (4.67.1)\n",
            "Requirement already satisfied: contourpy>=1.0.1 in /usr/local/lib/python3.11/dist-packages (from matplotlib->dfp==0.0.6.dev1+gb5860f2) (1.3.1)\n",
            "Requirement already satisfied: cycler>=0.10 in /usr/local/lib/python3.11/dist-packages (from matplotlib->dfp==0.0.6.dev1+gb5860f2) (0.12.1)\n",
            "Requirement already satisfied: fonttools>=4.22.0 in /usr/local/lib/python3.11/dist-packages (from matplotlib->dfp==0.0.6.dev1+gb5860f2) (4.56.0)\n",
            "Requirement already satisfied: kiwisolver>=1.3.1 in /usr/local/lib/python3.11/dist-packages (from matplotlib->dfp==0.0.6.dev1+gb5860f2) (1.4.8)\n",
            "Requirement already satisfied: packaging>=20.0 in /usr/local/lib/python3.11/dist-packages (from matplotlib->dfp==0.0.6.dev1+gb5860f2) (24.2)\n",
            "Requirement already satisfied: pyparsing>=2.3.1 in /usr/local/lib/python3.11/dist-packages (from matplotlib->dfp==0.0.6.dev1+gb5860f2) (3.2.1)\n",
            "Requirement already satisfied: python-dateutil>=2.7 in /usr/local/lib/python3.11/dist-packages (from matplotlib->dfp==0.0.6.dev1+gb5860f2) (2.8.2)\n",
            "Collecting fancycompleter>=0.8 (from pdbpp->dfp==0.0.6.dev1+gb5860f2)\n",
            "  Using cached fancycompleter-0.9.1-py3-none-any.whl.metadata (9.0 kB)\n",
            "Collecting wmctrl (from pdbpp->dfp==0.0.6.dev1+gb5860f2)\n",
            "  Using cached wmctrl-0.5-py2.py3-none-any.whl.metadata (943 bytes)\n",
            "Requirement already satisfied: pygments in /usr/local/lib/python3.11/dist-packages (from pdbpp->dfp==0.0.6.dev1+gb5860f2) (2.18.0)\n",
            "Requirement already satisfied: attrs>=21.4.0 in /usr/local/lib/python3.11/dist-packages (from pytype->dfp==0.0.6.dev1+gb5860f2) (25.1.0)\n",
            "Collecting importlab>=0.8 (from pytype->dfp==0.0.6.dev1+gb5860f2)\n",
            "  Using cached importlab-0.8.1-py2.py3-none-any.whl.metadata (2.4 kB)\n",
            "Requirement already satisfied: immutabledict>=4.1.0 in /usr/local/lib/python3.11/dist-packages (from pytype->dfp==0.0.6.dev1+gb5860f2) (4.2.1)\n",
            "Requirement already satisfied: jinja2>=3.1.2 in /usr/local/lib/python3.11/dist-packages (from pytype->dfp==0.0.6.dev1+gb5860f2) (3.1.5)\n",
            "Collecting libcst>=1.0.1 (from pytype->dfp==0.0.6.dev1+gb5860f2)\n",
            "  Using cached libcst-1.6.0-cp311-cp311-manylinux_2_17_x86_64.manylinux2014_x86_64.whl.metadata (17 kB)\n",
            "Collecting msgspec>=0.18.6 (from pytype->dfp==0.0.6.dev1+gb5860f2)\n",
            "  Using cached msgspec-0.19.0-cp311-cp311-manylinux_2_17_x86_64.manylinux2014_x86_64.whl.metadata (6.9 kB)\n",
            "Requirement already satisfied: networkx>=2.8 in /usr/local/lib/python3.11/dist-packages (from pytype->dfp==0.0.6.dev1+gb5860f2) (3.4.2)\n",
            "Collecting ninja>=1.10.0.post2 (from pytype->dfp==0.0.6.dev1+gb5860f2)\n",
            "  Using cached ninja-1.11.1.3-py3-none-manylinux_2_12_x86_64.manylinux2010_x86_64.whl.metadata (5.3 kB)\n",
            "Collecting pycnite>=2024.07.31 (from pytype->dfp==0.0.6.dev1+gb5860f2)\n",
            "  Using cached pycnite-2024.7.31-py3-none-any.whl.metadata (1.3 kB)\n",
            "Requirement already satisfied: pydot>=1.4.2 in /usr/local/lib/python3.11/dist-packages (from pytype->dfp==0.0.6.dev1+gb5860f2) (3.0.4)\n",
            "Requirement already satisfied: tabulate>=0.8.10 in /usr/local/lib/python3.11/dist-packages (from pytype->dfp==0.0.6.dev1+gb5860f2) (0.9.0)\n",
            "Requirement already satisfied: toml>=0.10.2 in /usr/local/lib/python3.11/dist-packages (from pytype->dfp==0.0.6.dev1+gb5860f2) (0.10.2)\n",
            "Requirement already satisfied: typing-extensions>=4.3.0 in /usr/local/lib/python3.11/dist-packages (from pytype->dfp==0.0.6.dev1+gb5860f2) (4.12.2)\n",
            "Requirement already satisfied: urllib3>=2 in /usr/local/lib/python3.11/dist-packages (from types-requests->dfp==0.0.6.dev1+gb5860f2) (2.3.0)\n",
            "Collecting pyrepl>=0.8.2 (from fancycompleter>=0.8->pdbpp->dfp==0.0.6.dev1+gb5860f2)\n",
            "  Downloading pyrepl-0.9.0.tar.gz (48 kB)\n",
            "\u001b[2K     \u001b[90m━━━━━━━━━━━━━━━━━━━━━━━━━━━━━━━━━━━━━━━━\u001b[0m \u001b[32m48.7/48.7 kB\u001b[0m \u001b[31m2.8 MB/s\u001b[0m eta \u001b[36m0:00:00\u001b[0m\n",
            "\u001b[?25h  Preparing metadata (setup.py) ... \u001b[?25l\u001b[?25hdone\n",
            "Requirement already satisfied: MarkupSafe>=2.0 in /usr/local/lib/python3.11/dist-packages (from jinja2>=3.1.2->pytype->dfp==0.0.6.dev1+gb5860f2) (3.0.2)\n",
            "Requirement already satisfied: pyyaml>=5.2 in /usr/local/lib/python3.11/dist-packages (from libcst>=1.0.1->pytype->dfp==0.0.6.dev1+gb5860f2) (6.0.2)\n",
            "Requirement already satisfied: six>=1.5 in /usr/local/lib/python3.11/dist-packages (from python-dateutil>=2.7->matplotlib->dfp==0.0.6.dev1+gb5860f2) (1.17.0)\n",
            "Requirement already satisfied: soupsieve>1.2 in /usr/local/lib/python3.11/dist-packages (from beautifulsoup4->gdown->dfp==0.0.6.dev1+gb5860f2) (2.6)\n",
            "Requirement already satisfied: charset-normalizer<4,>=2 in /usr/local/lib/python3.11/dist-packages (from requests[socks]->gdown->dfp==0.0.6.dev1+gb5860f2) (3.4.1)\n",
            "Requirement already satisfied: idna<4,>=2.5 in /usr/local/lib/python3.11/dist-packages (from requests[socks]->gdown->dfp==0.0.6.dev1+gb5860f2) (3.10)\n",
            "Requirement already satisfied: certifi>=2017.4.17 in /usr/local/lib/python3.11/dist-packages (from requests[socks]->gdown->dfp==0.0.6.dev1+gb5860f2) (2025.1.31)\n",
            "Requirement already satisfied: PySocks!=1.5.7,>=1.5.6 in /usr/local/lib/python3.11/dist-packages (from requests[socks]->gdown->dfp==0.0.6.dev1+gb5860f2) (1.7.1)\n",
            "Downloading protobuf-3.20.0-py2.py3-none-any.whl (162 kB)\n",
            "\u001b[2K   \u001b[90m━━━━━━━━━━━━━━━━━━━━━━━━━━━━━━━━━━━━━━━━\u001b[0m \u001b[32m162.1/162.1 kB\u001b[0m \u001b[31m7.5 MB/s\u001b[0m eta \u001b[36m0:00:00\u001b[0m\n",
            "\u001b[?25hDownloading dynaconf-3.2.9-py2.py3-none-any.whl (236 kB)\n",
            "\u001b[2K   \u001b[90m━━━━━━━━━━━━━━━━━━━━━━━━━━━━━━━━━━━━━━━━\u001b[0m \u001b[32m236.0/236.0 kB\u001b[0m \u001b[31m14.6 MB/s\u001b[0m eta \u001b[36m0:00:00\u001b[0m\n",
            "\u001b[?25hDownloading pdbpp-0.10.3-py2.py3-none-any.whl (23 kB)\n",
            "Downloading pytype-2024.10.11-cp311-cp311-manylinux_2_27_x86_64.manylinux_2_28_x86_64.whl (4.7 MB)\n",
            "\u001b[2K   \u001b[90m━━━━━━━━━━━━━━━━━━━━━━━━━━━━━━━━━━━━━━━━\u001b[0m \u001b[32m4.7/4.7 MB\u001b[0m \u001b[31m34.3 MB/s\u001b[0m eta \u001b[36m0:00:00\u001b[0m\n",
            "\u001b[?25hDownloading types_requests-2.32.0.20241016-py3-none-any.whl (15 kB)\n",
            "Downloading fancycompleter-0.9.1-py3-none-any.whl (9.7 kB)\n",
            "Downloading importlab-0.8.1-py2.py3-none-any.whl (21 kB)\n",
            "Downloading libcst-1.6.0-cp311-cp311-manylinux_2_17_x86_64.manylinux2014_x86_64.whl (2.3 MB)\n",
            "\u001b[2K   \u001b[90m━━━━━━━━━━━━━━━━━━━━━━━━━━━━━━━━━━━━━━━━\u001b[0m \u001b[32m2.3/2.3 MB\u001b[0m \u001b[31m54.5 MB/s\u001b[0m eta \u001b[36m0:00:00\u001b[0m\n",
            "\u001b[?25hDownloading msgspec-0.19.0-cp311-cp311-manylinux_2_17_x86_64.manylinux2014_x86_64.whl (210 kB)\n",
            "\u001b[2K   \u001b[90m━━━━━━━━━━━━━━━━━━━━━━━━━━━━━━━━━━━━━━━━\u001b[0m \u001b[32m210.7/210.7 kB\u001b[0m \u001b[31m15.6 MB/s\u001b[0m eta \u001b[36m0:00:00\u001b[0m\n",
            "\u001b[?25hDownloading ninja-1.11.1.3-py3-none-manylinux_2_12_x86_64.manylinux2010_x86_64.whl (422 kB)\n",
            "\u001b[2K   \u001b[90m━━━━━━━━━━━━━━━━━━━━━━━━━━━━━━━━━━━━━━━━\u001b[0m \u001b[32m422.9/422.9 kB\u001b[0m \u001b[31m24.2 MB/s\u001b[0m eta \u001b[36m0:00:00\u001b[0m\n",
            "\u001b[?25hDownloading pycnite-2024.7.31-py3-none-any.whl (22 kB)\n",
            "Downloading wmctrl-0.5-py2.py3-none-any.whl (4.3 kB)\n",
            "Building wheels for collected packages: dfp, pyrepl\n",
            "  Building editable for dfp (pyproject.toml) ... \u001b[?25l\u001b[?25hdone\n",
            "  Created wheel for dfp: filename=dfp-0.0.6.dev1+gb5860f2-0.editable-py2.py3-none-any.whl size=14101 sha256=ffcf3a884922b496be8dbabeb86948a495ffda25037c478445f85b065ab0efd6\n",
            "  Stored in directory: /tmp/pip-ephem-wheel-cache-s1oozjvv/wheels/04/13/68/e22b142d27b2d09f80dade3bec3ccc679c400ca223c3dd7569\n",
            "  Building wheel for pyrepl (setup.py) ... \u001b[?25l\u001b[?25hdone\n",
            "  Created wheel for pyrepl: filename=pyrepl-0.9.0-py3-none-any.whl size=59907 sha256=24cab3cb8268e7a2664d27998bbb4e9fc168ae47257b144ec0326417e931e330\n",
            "  Stored in directory: /root/.cache/pip/wheels/5d/63/d0/9abf1bc808afeedd0a80e1b107e4516f96e79a11eb4e894944\n",
            "Successfully built dfp pyrepl\n",
            "Installing collected packages: pyrepl, wmctrl, types-requests, pycnite, protobuf, ninja, msgspec, libcst, importlab, fancycompleter, dynaconf, pytype, pdbpp, dfp\n",
            "  Attempting uninstall: protobuf\n",
            "    Found existing installation: protobuf 4.25.6\n",
            "    Uninstalling protobuf-4.25.6:\n",
            "      Successfully uninstalled protobuf-4.25.6\n",
            "  Attempting uninstall: dfp\n",
            "    Found existing installation: dfp 0.9.1\n",
            "    Uninstalling dfp-0.9.1:\n",
            "      Successfully uninstalled dfp-0.9.1\n",
            "\u001b[31mERROR: pip's dependency resolver does not currently take into account all the packages that are installed. This behaviour is the source of the following dependency conflicts.\n",
            "google-cloud-spanner 3.51.0 requires protobuf!=4.21.0,!=4.21.1,!=4.21.2,!=4.21.3,!=4.21.4,!=4.21.5,<6.0.0dev,>=3.20.2, but you have protobuf 3.20.0 which is incompatible.\n",
            "google-cloud-bigquery-storage 2.28.0 requires protobuf!=3.20.0,!=3.20.1,!=4.21.0,!=4.21.1,!=4.21.2,!=4.21.3,!=4.21.4,!=4.21.5,<6.0.0dev,>=3.20.2, but you have protobuf 3.20.0 which is incompatible.\n",
            "google-cloud-iam 2.17.0 requires protobuf!=4.21.0,!=4.21.1,!=4.21.2,!=4.21.3,!=4.21.4,!=4.21.5,<6.0.0dev,>=3.20.2, but you have protobuf 3.20.0 which is incompatible.\n",
            "google-api-core 2.19.2 requires protobuf!=3.20.0,!=3.20.1,!=4.21.0,!=4.21.1,!=4.21.2,!=4.21.3,!=4.21.4,!=4.21.5,<6.0.0.dev0,>=3.19.5, but you have protobuf 3.20.0 which is incompatible.\n",
            "google-cloud-pubsub 2.25.0 requires protobuf!=4.21.0,!=4.21.1,!=4.21.2,!=4.21.3,!=4.21.4,!=4.21.5,<6.0.0dev,>=3.20.2, but you have protobuf 3.20.0 which is incompatible.\n",
            "google-cloud-firestore 2.20.0 requires protobuf!=3.20.0,!=3.20.1,!=4.21.0,!=4.21.1,!=4.21.2,!=4.21.3,!=4.21.4,!=4.21.5,<6.0.0dev,>=3.20.2, but you have protobuf 3.20.0 which is incompatible.\n",
            "google-cloud-translate 3.19.0 requires protobuf!=4.21.0,!=4.21.1,!=4.21.2,!=4.21.3,!=4.21.4,!=4.21.5,<6.0.0dev,>=3.20.2, but you have protobuf 3.20.0 which is incompatible.\n",
            "google-cloud-datastore 2.20.2 requires protobuf!=3.20.0,!=3.20.1,!=4.21.0,!=4.21.1,!=4.21.2,!=4.21.3,!=4.21.4,!=4.21.5,<6.0.0dev,>=3.20.2, but you have protobuf 3.20.0 which is incompatible.\n",
            "tensorflow 2.18.0 requires protobuf!=4.21.0,!=4.21.1,!=4.21.2,!=4.21.3,!=4.21.4,!=4.21.5,<6.0.0dev,>=3.20.3, but you have protobuf 3.20.0 which is incompatible.\n",
            "grpcio-status 1.62.3 requires protobuf>=4.21.6, but you have protobuf 3.20.0 which is incompatible.\n",
            "google-cloud-bigquery-connection 1.17.0 requires protobuf!=4.21.0,!=4.21.1,!=4.21.2,!=4.21.3,!=4.21.4,!=4.21.5,<6.0.0dev,>=3.20.2, but you have protobuf 3.20.0 which is incompatible.\n",
            "google-cloud-aiplatform 1.79.0 requires protobuf!=4.21.0,!=4.21.1,!=4.21.2,!=4.21.3,!=4.21.4,!=4.21.5,<6.0.0dev,>=3.20.2, but you have protobuf 3.20.0 which is incompatible.\n",
            "google-cloud-resource-manager 1.14.0 requires protobuf!=4.21.0,!=4.21.1,!=4.21.2,!=4.21.3,!=4.21.4,!=4.21.5,<6.0.0dev,>=3.20.2, but you have protobuf 3.20.0 which is incompatible.\n",
            "googleapis-common-protos 1.66.0 requires protobuf!=3.20.0,!=3.20.1,!=4.21.1,!=4.21.2,!=4.21.3,!=4.21.4,!=4.21.5,<6.0.0.dev0,>=3.20.2, but you have protobuf 3.20.0 which is incompatible.\n",
            "grpc-google-iam-v1 0.14.0 requires protobuf!=4.21.1,!=4.21.2,!=4.21.3,!=4.21.4,!=4.21.5,<6.0.0dev,>=3.20.2, but you have protobuf 3.20.0 which is incompatible.\n",
            "google-cloud-language 2.16.0 requires protobuf!=4.21.0,!=4.21.1,!=4.21.2,!=4.21.3,!=4.21.4,!=4.21.5,<6.0.0dev,>=3.20.2, but you have protobuf 3.20.0 which is incompatible.\n",
            "google-cloud-dataproc 5.16.0 requires protobuf!=4.21.0,!=4.21.1,!=4.21.2,!=4.21.3,!=4.21.4,!=4.21.5,<6.0.0dev,>=3.20.2, but you have protobuf 3.20.0 which is incompatible.\n",
            "google-cloud-functions 1.19.0 requires protobuf!=4.21.0,!=4.21.1,!=4.21.2,!=4.21.3,!=4.21.4,!=4.21.5,<6.0.0dev,>=3.20.2, but you have protobuf 3.20.0 which is incompatible.\n",
            "google-ai-generativelanguage 0.6.15 requires protobuf!=4.21.0,!=4.21.1,!=4.21.2,!=4.21.3,!=4.21.4,!=4.21.5,<6.0.0dev,>=3.20.2, but you have protobuf 3.20.0 which is incompatible.\n",
            "google-cloud-bigtable 2.28.1 requires protobuf!=4.21.0,!=4.21.1,!=4.21.2,!=4.21.3,!=4.21.4,!=4.21.5,<6.0.0dev,>=3.20.2, but you have protobuf 3.20.0 which is incompatible.\n",
            "tensorflow-metadata 1.16.1 requires protobuf<6.0.0dev,>=4.25.2; python_version >= \"3.11\", but you have protobuf 3.20.0 which is incompatible.\u001b[0m\u001b[31m\n",
            "\u001b[0mSuccessfully installed dfp-0.0.6.dev1+gb5860f2 dynaconf-3.2.9 fancycompleter-0.9.1 importlab-0.8.1 libcst-1.6.0 msgspec-0.19.0 ninja-1.11.1.3 pdbpp-0.10.3 protobuf-3.20.0 pycnite-2024.7.31 pyrepl-0.9.0 pytype-2024.10.11 types-requests-2.32.0.20241016 wmctrl-0.5\n"
          ]
        },
        {
          "output_type": "display_data",
          "data": {
            "application/vnd.colab-display-data+json": {
              "pip_warning": {
                "packages": [
                  "dfp",
                  "google",
                  "pdb"
                ]
              },
              "id": "a276ee0d10e544fabfe9d3ff043b522a"
            }
          },
          "metadata": {}
        }
      ]
    },
    {
      "cell_type": "markdown",
      "source": [],
      "metadata": {
        "id": "byliFhs0Uixf"
      }
    },
    {
      "cell_type": "markdown",
      "metadata": {
        "id": "lciV5mk0PZ30"
      },
      "source": [
        "### Main Script"
      ]
    },
    {
      "cell_type": "code",
      "execution_count": 16,
      "metadata": {
        "colab": {
          "base_uri": "https://localhost:8080/",
          "height": 393
        },
        "id": "C4VRom9mqBPT",
        "outputId": "33d0867a-38ab-49a0-ef0b-fead0f646d08"
      },
      "outputs": [
        {
          "output_type": "error",
          "ename": "ModuleNotFoundError",
          "evalue": "No module named 'dfp.net'; 'dfp' is not a package",
          "traceback": [
            "\u001b[0;31m---------------------------------------------------------------------------\u001b[0m",
            "\u001b[0;31mModuleNotFoundError\u001b[0m                       Traceback (most recent call last)",
            "\u001b[0;32m<ipython-input-16-5d8a0ec92eea>\u001b[0m in \u001b[0;36m<cell line: 0>\u001b[0;34m()\u001b[0m\n\u001b[1;32m      1\u001b[0m \u001b[0;32mimport\u001b[0m \u001b[0mtensorflow\u001b[0m \u001b[0;32mas\u001b[0m \u001b[0mtf\u001b[0m\u001b[0;34m\u001b[0m\u001b[0;34m\u001b[0m\u001b[0m\n\u001b[1;32m      2\u001b[0m \u001b[0;32mimport\u001b[0m \u001b[0msys\u001b[0m\u001b[0;34m\u001b[0m\u001b[0;34m\u001b[0m\u001b[0m\n\u001b[0;32m----> 3\u001b[0;31m \u001b[0;32mfrom\u001b[0m \u001b[0mdfp\u001b[0m\u001b[0;34m.\u001b[0m\u001b[0mnet\u001b[0m \u001b[0;32mimport\u001b[0m \u001b[0;34m*\u001b[0m\u001b[0;34m\u001b[0m\u001b[0;34m\u001b[0m\u001b[0m\n\u001b[0m\u001b[1;32m      4\u001b[0m \u001b[0;32mfrom\u001b[0m \u001b[0mdfp\u001b[0m\u001b[0;34m.\u001b[0m\u001b[0mdata\u001b[0m \u001b[0;32mimport\u001b[0m \u001b[0;34m*\u001b[0m\u001b[0;34m\u001b[0m\u001b[0;34m\u001b[0m\u001b[0m\n\u001b[1;32m      5\u001b[0m \u001b[0;32mimport\u001b[0m \u001b[0mmatplotlib\u001b[0m\u001b[0;34m.\u001b[0m\u001b[0mimage\u001b[0m \u001b[0;32mas\u001b[0m \u001b[0mmpimg\u001b[0m\u001b[0;34m\u001b[0m\u001b[0;34m\u001b[0m\u001b[0m\n",
            "\u001b[0;31mModuleNotFoundError\u001b[0m: No module named 'dfp.net'; 'dfp' is not a package",
            "",
            "\u001b[0;31m---------------------------------------------------------------------------\u001b[0;32m\nNOTE: If your import is failing due to a missing package, you can\nmanually install dependencies using either !pip or !apt.\n\nTo view examples of installing some common dependencies, click the\n\"Open Examples\" button below.\n\u001b[0;31m---------------------------------------------------------------------------\u001b[0m\n"
          ],
          "errorDetails": {
            "actions": [
              {
                "action": "open_url",
                "actionText": "Open Examples",
                "url": "/notebooks/snippets/importing_libraries.ipynb"
              }
            ]
          }
        }
      ],
      "source": [
        "import tensorflow as tf\n",
        "import sys\n",
        "from dfp.net import *\n",
        "from dfp.data import *\n",
        "import matplotlib.image as mpimg\n",
        "import matplotlib.pyplot as plt\n",
        "from argparse import Namespace\n",
        "import os\n",
        "import gc\n",
        "os.environ['TF_FORCE_GPU_ALLOW_GROWTH'] = 'true'\n",
        "from dfp.utils.rgb_ind_convertor import *\n",
        "from dfp.utils.util import *\n",
        "from dfp.utils.legend import *\n",
        "from dfp.utils.settings import *\n",
        "from dfp.deploy import *\n",
        "print(tf.test.is_gpu_available())\n",
        "print(tf.config.list_physical_devices('GPU'))"
      ]
    },
    {
      "cell_type": "code",
      "execution_count": null,
      "metadata": {
        "id": "30DTDbxbwm3O"
      },
      "outputs": [],
      "source": [
        "img_path = './TF2DeepFloorplan/resources/30939153.jpg'\n",
        "inp = mpimg.imread(img_path)\n",
        "args = parse_args(\"--tomlfile ./TF2DeepFloorplan/docs/notebook.toml\".split())\n",
        "args = overwrite_args_with_toml(args)\n",
        "args.image = img_path"
      ]
    },
    {
      "cell_type": "code",
      "execution_count": null,
      "metadata": {
        "id": "xzqbdPC0uJNc"
      },
      "outputs": [],
      "source": [
        "result = main(args)"
      ]
    },
    {
      "cell_type": "code",
      "execution_count": null,
      "metadata": {
        "id": "2xVIt5LEusqf"
      },
      "outputs": [],
      "source": [
        "plt.subplot(1,2,1)\n",
        "plt.imshow(inp); plt.xticks([]); plt.yticks([]);\n",
        "plt.subplot(1,2,2)\n",
        "plt.imshow(result); plt.xticks([]); plt.yticks([]);"
      ]
    },
    {
      "cell_type": "markdown",
      "metadata": {
        "id": "Jto5H5cXypOD"
      },
      "source": [
        "## Breakdown of postprocessing (step by step)"
      ]
    },
    {
      "cell_type": "code",
      "execution_count": null,
      "metadata": {
        "id": "57rg5h7XywwU"
      },
      "outputs": [],
      "source": [
        "model,img,shp = init(args)\n",
        "logits_cw,logits_r = predict(model,img,shp)"
      ]
    },
    {
      "cell_type": "code",
      "execution_count": null,
      "metadata": {
        "id": "2aUCqpT6zPmv"
      },
      "outputs": [],
      "source": [
        "logits_r = tf.image.resize(logits_r,shp[:2])\n",
        "logits_cw = tf.image.resize(logits_cw,shp[:2])\n",
        "r = convert_one_hot_to_image(logits_r)[0].numpy()\n",
        "cw = convert_one_hot_to_image(logits_cw)[0].numpy()\n",
        "plt.subplot(1,2,1)\n",
        "plt.imshow(r.squeeze()); plt.xticks([]); plt.yticks([]);\n",
        "plt.subplot(1,2,2)\n",
        "plt.imshow(cw.squeeze()); plt.xticks([]); plt.yticks([]);"
      ]
    },
    {
      "cell_type": "code",
      "execution_count": null,
      "metadata": {
        "id": "UYf4WVVCzgqj"
      },
      "outputs": [],
      "source": [
        "r_color,cw_color = colorize(r.squeeze(),cw.squeeze())\n",
        "plt.subplot(1,2,1)\n",
        "plt.imshow(r_color); plt.xticks([]); plt.yticks([]);\n",
        "plt.subplot(1,2,2)\n",
        "plt.imshow(cw_color); plt.xticks([]); plt.yticks([]);"
      ]
    },
    {
      "cell_type": "code",
      "execution_count": null,
      "metadata": {
        "id": "LTm_qYqa0HGc"
      },
      "outputs": [],
      "source": [
        "newr,newcw = post_process(r,cw,shp)\n",
        "plt.subplot(1,2,1)\n",
        "plt.imshow(newr.squeeze()); plt.xticks([]); plt.yticks([]);\n",
        "plt.subplot(1,2,2)\n",
        "plt.imshow(newcw.squeeze()); plt.xticks([]); plt.yticks([]);"
      ]
    },
    {
      "cell_type": "code",
      "execution_count": null,
      "metadata": {
        "id": "S5MCeHF30ygl"
      },
      "outputs": [],
      "source": [
        "newr_color,newcw_color = colorize(newr.squeeze(),newcw.squeeze())\n",
        "plt.subplot(1,2,1)\n",
        "plt.imshow(newr_color); plt.xticks([]); plt.yticks([]);\n",
        "plt.subplot(1,2,2)\n",
        "plt.imshow(newcw_color); plt.xticks([]); plt.yticks([]);"
      ]
    },
    {
      "cell_type": "code",
      "execution_count": null,
      "metadata": {
        "id": "18UYo3rz0918"
      },
      "outputs": [],
      "source": [
        "plt.imshow(newr_color+newcw_color); plt.xticks([]); plt.yticks([]);"
      ]
    },
    {
      "cell_type": "code",
      "execution_count": null,
      "metadata": {
        "id": "dydb1kWl13hL"
      },
      "outputs": [],
      "source": [
        "over255 = lambda x: [p/255 for p in x]\n",
        "colors2 = [over255(rgb) for rgb in list(floorplan_fuse_map.values())]\n",
        "colors = [\"background\", \"closet\", \"bathroom\",\n",
        "          \"living room\\nkitchen\\ndining room\",\n",
        "          \"bedroom\",\"hall\",\"balcony\",\"not used\",\"not used\",\n",
        "          \"door/window\",\"wall\"]\n",
        "f = lambda m,c: plt.plot([],[],marker=m, color=c, ls=\"none\")[0]\n",
        "handles = [f(\"s\", colors2[i]) for i in range(len(colors))]\n",
        "labels = colors\n",
        "legend = plt.legend(handles, labels, loc=3,framealpha=1, frameon=True)\n",
        "\n",
        "fig  = legend.figure\n",
        "fig.canvas.draw()\n",
        "plt.xticks([]); plt.yticks([]);\n"
      ]
    },
    {
      "cell_type": "code",
      "execution_count": null,
      "metadata": {
        "id": "iy8nx0WZ2QGS"
      },
      "outputs": [],
      "source": []
    }
  ],
  "metadata": {
    "colab": {
      "name": "deepfloorplan.ipynb",
      "provenance": []
    },
    "kernelspec": {
      "display_name": "Python 3 (ipykernel)",
      "language": "python",
      "name": "python3"
    },
    "language_info": {
      "codemirror_mode": {
        "name": "ipython",
        "version": 3
      },
      "file_extension": ".py",
      "mimetype": "text/x-python",
      "name": "python",
      "nbconvert_exporter": "python",
      "pygments_lexer": "ipython3",
      "version": "3.8.16"
    }
  },
  "nbformat": 4,
  "nbformat_minor": 0
}